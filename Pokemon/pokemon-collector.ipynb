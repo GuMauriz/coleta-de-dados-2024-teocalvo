{
 "cells": [
  {
   "cell_type": "code",
   "execution_count": 0,
   "metadata": {
    "application/vnd.databricks.v1+cell": {
     "cellMetadata": {
      "byteLimit": 2048000,
      "rowLimit": 10000
     },
     "inputWidgets": {},
     "nuid": "a52c5b4e-da03-4852-8f5b-5ba7f07e2c7d",
     "showTitle": true,
     "tableResultSettingsMap": {},
     "title": "Importando bibliotecas"
    }
   },
   "outputs": [],
   "source": [
    "import requests\n",
    "import datetime\n",
    "import json"
   ]
  },
  {
   "cell_type": "code",
   "execution_count": 0,
   "metadata": {
    "application/vnd.databricks.v1+cell": {
     "cellMetadata": {
      "byteLimit": 2048000,
      "rowLimit": 10000
     },
     "inputWidgets": {},
     "nuid": "cc79c7e6-58ee-4afd-b470-d126a471a8a4",
     "showTitle": true,
     "tableResultSettingsMap": {},
     "title": "Classe Collector - Coletar dados da PokeAPI"
    }
   },
   "outputs": [],
   "source": [
    "class Collector:\n",
    "\n",
    "    def __init__(self, url):\n",
    "        self.url = url\n",
    "        self.instance_name = url.strip(\"/\").split(\"/\")[-1]\n",
    "\n",
    "    def get_endpoint(self, **kwargs):\n",
    "        resp = requests.get(self.url, params=kwargs)\n",
    "        return resp\n",
    "    \n",
    "    def save_data(self, data):\n",
    "        now = datetime.datetime.now().strftime(\"%Y-%m-%d_%H%M%S.%f\")\n",
    "        data[\"date_ref\"] = datetime.datetime.now().strftime(\"%Y-%m-%d %H:%M:%S.%f\")\n",
    "        filename = f\"/Volumes/workspace/default/pokemon_volume/{self.instance_name}/json/{now}.json\"\n",
    "        with open(filename, \"w\") as open_file:\n",
    "            json.dump(data, open_file)\n",
    "\n",
    "    def get_n_save(self, **kwargs):\n",
    "        resp = self.get_endpoint(**kwargs)\n",
    "        if resp.status_code == 200:\n",
    "            data = resp.json()\n",
    "            self.save_data(data)\n",
    "            return data\n",
    "        else:\n",
    "            return {}\n",
    "        \n",
    "    def auto_exec(self, limit=100):\n",
    "        offset = 0\n",
    "        while True:\n",
    "            print(\"Já foram encontrados \" + str(offset) + \" pokémons. Buscando os próximos \"+ str(limit) + \"...\")\n",
    "            data = self.get_n_save(limit=limit, offset=offset)\n",
    "            if data[\"next\"] == None:\n",
    "                break\n",
    "            offset += limit"
   ]
  },
  {
   "cell_type": "code",
   "execution_count": 0,
   "metadata": {
    "application/vnd.databricks.v1+cell": {
     "cellMetadata": {
      "byteLimit": 2048000,
      "rowLimit": 10000
     },
     "inputWidgets": {},
     "nuid": "e615f3cf-05d9-4be4-b9c5-d664fe70466f",
     "showTitle": true,
     "tableResultSettingsMap": {},
     "title": "Carregar dados de Pokemons no catalog"
    }
   },
   "outputs": [],
   "source": [
    "url = \"https://pokeapi.co/api/v2/pokemon/\"\n",
    "collector = Collector(url)\n",
    "collector.auto_exec()"
   ]
  },
  {
   "cell_type": "code",
   "execution_count": 0,
   "metadata": {
    "application/vnd.databricks.v1+cell": {
     "cellMetadata": {
      "byteLimit": 2048000,
      "rowLimit": 10000
     },
     "inputWidgets": {},
     "nuid": "37c0ac32-c8e7-4f30-a0cf-aa654e4a6d37",
     "showTitle": true,
     "tableResultSettingsMap": {},
     "title": "Ler o .json direto do catalog"
    }
   },
   "outputs": [],
   "source": [
    "df = spark.read.json(\"/Volumes/workspace/default/pokemon_volume/pokemon/json/\")\n",
    "display(df)"
   ]
  }
 ],
 "metadata": {
  "application/vnd.databricks.v1+notebook": {
   "computePreferences": {
    "hardware": {
     "accelerator": null,
     "gpuPoolId": null,
     "memory": null
    }
   },
   "dashboards": [],
   "environmentMetadata": {
    "base_environment": "",
    "environment_version": "4"
   },
   "inputWidgetPreferences": null,
   "language": "python",
   "notebookMetadata": {
    "mostRecentlyExecutedCommandWithImplicitDF": {
     "commandId": 7569370777052980,
     "dataframes": [
      "_sqldf"
     ]
    },
    "pythonIndentUnit": 4
   },
   "notebookName": "pokemon-collector",
   "widgets": {}
  },
  "language_info": {
   "name": "python"
  }
 },
 "nbformat": 4,
 "nbformat_minor": 0
}
